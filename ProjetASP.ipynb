{
 "cells": [
  {
   "cell_type": "markdown",
   "metadata": {},
   "source": [
    "### Analyse Spatiale et Prédective"
   ]
  },
  {
   "cell_type": "markdown",
   "metadata": {},
   "source": [
    "# Application d'outils d'analyse spatiale sur lames minces grâce à Python"
   ]
  },
  {
   "cell_type": "markdown",
   "metadata": {
    "hide_input": true
   },
   "source": [
    "Choisir une image à traiter dans le même dossier que le notebook Jupyter avec nom_de_image.format :"
   ]
  },
  {
   "cell_type": "markdown",
   "metadata": {},
   "source": [
    "### Image à traiter (exemple : lame2.png) : "
   ]
  },
  {
   "cell_type": "code",
   "execution_count": null,
   "metadata": {
    "hide_input": true
   },
   "outputs": [],
   "source": [
    "a = str(input())\n",
    "h = './images/'\n",
    "file = h + a"
   ]
  },
  {
   "cell_type": "code",
   "execution_count": null,
   "metadata": {
    "hide_input": false,
    "scrolled": false
   },
   "outputs": [],
   "source": [
    "#Modules necessaires:\n",
    "import matplotlib.pyplot as plt\n",
    "from skimage.color import rgb2gray\n",
    "from skimage import data, io, img_as_ubyte\n",
    "\n",
    "image_originale = io.imread(file) # Image originale \n",
    "image = rgb2gray(io.imread(file)) # Image en Noir et Blanc\n",
    "\n",
    "fig, ax = plt.subplots(nrows=1, ncols=2, figsize=(15, 3.5))\n",
    "\n",
    "ax[0].imshow(image_originale) # image de base en niveaux de gris\n",
    "ax[0].set_title('Image originale')\n",
    "ax[0].axis('off')\n",
    "\n",
    "ax[1].hist(image.ravel()*255, bins=255) \n",
    "ax[1].set_title('Histogramme niveaux de gris')\n",
    "ax[1].set_xlabel('Niveaux de gris')\n",
    "ax[1].set_ylabel('Nombre de pixels')\n",
    "plt.show()"
   ]
  },
  {
   "cell_type": "markdown",
   "metadata": {},
   "source": [
    "#### Nombre de classe souhaité ? (entre 2 et 3)"
   ]
  },
  {
   "cell_type": "code",
   "execution_count": null,
   "metadata": {
    "hide_input": false
   },
   "outputs": [],
   "source": [
    "nombre_phases_minerales = int(input()) #nombre de classe desiré\n",
    "if nombre_phases_minerales > 3 or nombre_phases_minerales < 2 : #si 1 ou plus de 4 minéraux (=classe)\n",
    "    print ('Erreur dans le choix du nombre de phases minérales (doit être entre 2 et 3)')\n",
    "    nombre_phases_minerales = int(input())"
   ]
  },
  {
   "cell_type": "code",
   "execution_count": null,
   "metadata": {
    "hide_input": true
   },
   "outputs": [],
   "source": [
    "import numpy as np\n",
    "import skimage\n",
    "from skimage.filters import threshold_multiotsu\n",
    "\n",
    "thresholds = threshold_multiotsu(image, classes=nombre_phases_minerales) #multi Otsu\n",
    "regions = np.digitize(image, bins=thresholds)\n",
    "output = img_as_ubyte(regions) "
   ]
  },
  {
   "cell_type": "markdown",
   "metadata": {
    "hide_input": false
   },
   "source": [
    "### Résultat seuillage Multi-Otsu :"
   ]
  },
  {
   "cell_type": "code",
   "execution_count": null,
   "metadata": {
    "hide_input": false
   },
   "outputs": [],
   "source": [
    "fig, ax = plt.subplots(nrows=1, ncols=3, figsize=(20, 5))\n",
    "ax[0].imshow(image_originale) # image de base en niveaux de gris\n",
    "ax[0].set_title('Image originale')\n",
    "ax[0].axis('off')\n",
    "\n",
    "ax[1].hist(image.ravel()*255, bins=255) # Histogramme + multi Otsu\n",
    "ax[1].set_title('Histogramme des niveaux de gris seuillé')\n",
    "for thresh in thresholds:\n",
    "    ax[1].axvline(thresh*255, color='r')\n",
    "ax[1].set_xlabel('Niveaux de gris')\n",
    "ax[1].set_ylabel('Nombre de pixels')\n",
    "\n",
    "ax[2].imshow(regions,cmap='jet') # Resultat multi Otsu\n",
    "ax[2].set_title('Resultat classification Multi-Otsu ')\n",
    "ax[2].axis('off')"
   ]
  },
  {
   "cell_type": "code",
   "execution_count": null,
   "metadata": {
    "hide_input": true
   },
   "outputs": [],
   "source": [
    "import cv2 \n",
    "plt.imsave('./Resultat_Otsu.png', output)\n",
    "Otsu = cv2.imread('./Resultat_Otsu.png')"
   ]
  },
  {
   "cell_type": "code",
   "execution_count": null,
   "metadata": {
    "hide_input": true
   },
   "outputs": [],
   "source": [
    "from skimage import color, morphology\n",
    "import time\n",
    "import matplotlib.cbook as cbook\n",
    "from scipy import misc\n",
    "import matplotlib.image as img\n",
    "from PIL import Image\n",
    "from math import * #new\n",
    "from scipy.stats import gaussian_kde #new\n",
    "import math\n",
    "import seaborn as sns #new\n",
    "from scipy import stats #new\n",
    "import ipywidgets as widgets\n",
    "from ipywidgets import interact"
   ]
  },
  {
   "cell_type": "markdown",
   "metadata": {},
   "source": [
    "### Séparation des phases : "
   ]
  },
  {
   "cell_type": "code",
   "execution_count": null,
   "metadata": {
    "hide_input": false
   },
   "outputs": [],
   "source": [
    "hsv = cv2.cvtColor(Otsu, cv2.COLOR_BGR2HSV)\n",
    "if nombre_phases_minerales >= 2: #si 2 minéraux\n",
    " lower_rangej = np.array([17,0,0],dtype=np.uint8) #JAUNE\n",
    " upper_rangej = np.array([37,255,255],dtype=np.uint8) #JAUNE\n",
    " maskj = cv2.inRange(hsv, lower_rangej, upper_rangej)\n",
    " outputj = img_as_ubyte(maskj)\n",
    " plt.imsave('./mineral1.png', outputj)\n",
    "\n",
    " img = Image.open('./mineral1.png')\n",
    " thresh = 200\n",
    " fn = lambda x : 255 if x < thresh else 0\n",
    " mineral1gray = img.convert('L').point(fn, mode='1')\n",
    " mineral1gray.save('./mineral1.png')\n",
    "\n",
    " lower_rangev = np.array([130,0,0],dtype=np.uint8) #VIOLET\n",
    " upper_rangev = np.array([160,255,255],dtype=np.uint8) #VIOLET\n",
    " maskv = cv2.inRange(hsv, lower_rangev, upper_rangev)\n",
    " outputv = img_as_ubyte(maskv)\n",
    " plt.imsave('./mineral2.png', outputv)\n",
    "\n",
    " img = Image.open('./mineral2.png')\n",
    " thresh = 200\n",
    " fn = lambda x : 255 if x < thresh else 0\n",
    " mineral2gray = img.convert('L').point(fn, mode='1')\n",
    " mineral2gray.save('./mineral2.png')\n",
    "\n",
    " # Image en sortie: resultat\n",
    " if nombre_phases_minerales ==2:\n",
    "    fig, ax = plt.subplots(nrows=1, ncols=nombre_phases_minerales, figsize=(10, 3.5))\n",
    "\n",
    "    ax[0].imshow(maskj, cmap='OrRd')\n",
    "    ax[0].set_title('mineral 1')\n",
    "    ax[0].axis('off')\n",
    "\n",
    "    ax[1].imshow(maskv, cmap='GnBu')\n",
    "    ax[1].set_title('mineral 2')\n",
    "    ax[1].axis('off')\n",
    "\n",
    "if nombre_phases_minerales == 3: #si 3 minéraux\n",
    "\n",
    " lower_rangec = np.array([79,0,0]) #CYAN\n",
    " upper_rangec = np.array([99,255,255]) #CYAN\n",
    " maskc = cv2.inRange(hsv, lower_rangec, upper_rangec)\n",
    " outputc = img_as_ubyte(maskc)\n",
    " plt.imsave('./mineral3.png', outputc)\n",
    "\n",
    " img = Image.open('./mineral3.png')\n",
    " thresh = 200\n",
    " fn = lambda x : 255 if x < thresh else 0\n",
    " mineral3gray = img.convert('L').point(fn, mode='1')\n",
    " mineral3gray.save('./mineral3.png')\n",
    "\n",
    " # Image en sortie: resultat\n",
    " fig, ax = plt.subplots(ncols=nombre_phases_minerales, figsize=(40, 10))\n",
    "\n",
    " ax[0].imshow(maskj,cmap='OrRd')\n",
    " ax[0].set_title('phase 1', fontsize = 25)\n",
    " ax[0].axis('off')\n",
    "\n",
    " ax[1].imshow(maskv,cmap='GnBu')\n",
    " ax[1].set_title('phase 2', fontsize = 25)\n",
    " ax[1].axis('off')\n",
    "\n",
    " ax[2].imshow(maskc,cmap='BuGn')\n",
    " ax[2].set_title('phase 3', fontsize = 25)\n",
    " ax[2].axis('off')\n",
    "\n",
    "\n",
    "plt.subplots_adjust()\n",
    "plt.show()\n",
    "\n",
    "cv2.waitKey(0)\n",
    "cv2.destroyAllWindows()"
   ]
  },
  {
   "cell_type": "markdown",
   "metadata": {
    "hide_input": true
   },
   "source": [
    "### Pourcentages des phases : "
   ]
  },
  {
   "cell_type": "code",
   "execution_count": null,
   "metadata": {
    "hide_input": true
   },
   "outputs": [],
   "source": [
    "if nombre_phases_minerales == 2: #Si 2 minéraux\n",
    "\n",
    " m = io.imread('./mineral1.png')\n",
    " a = np.array([m.shape]) #extraction taille image mineral1gray\n",
    "\n",
    " hauteur = a[0][0]#largeur image mineral1gray\n",
    " largeur = a[0][1] #longueur image mineral1gray\n",
    "\n",
    " nbpxm=((hauteur*largeur*255)-np.sum(m))/255\n",
    " \n",
    " pcm1=round((nbpxm*100)/(largeur*hauteur),1) #pourcentage mineral1\n",
    " print(pcm1,'% pour la phase 1') \n",
    "\n",
    " pcm2=round(100-pcm1,1) #pourcentage mineral2\n",
    " print(pcm2,'% pour la phase 2') \n",
    "\n",
    "\n",
    "if nombre_phases_minerales == 3: #Si 3 minéraux \n",
    "\n",
    " m = io.imread('./mineral1.png')\n",
    " a = np.array([m.shape]) #extraction taille image mineral1gray\n",
    "\n",
    " hauteur = a[0][0]#largeur image mineral1gray\n",
    " largeur = a[0][1] #longueur image mineral1gray\n",
    "\n",
    " nbpxm=((hauteur*largeur*255)-np.sum(m))/255 #nb de pixel\n",
    "\n",
    " pcm1=round((nbpxm*100)/(largeur*hauteur),1) #pourcentage mineral1\n",
    " print(pcm1,'% pour la phase 1') \n",
    "\n",
    " m = io.imread('./mineral2.png')\n",
    " a = np.array([m.shape]) #extraction taille image mineral2gray\n",
    "\n",
    " hauteur = a[0][0]#largeur image mineral2gray\n",
    " largeur = a[0][1] #longueur image mineral2gray\n",
    "\n",
    " nbpxm=((hauteur*largeur*255)-np.sum(m))/255\n",
    "\n",
    " pcm2=round((nbpxm*100)/(largeur*hauteur),1) #pourcentage mineral2\n",
    " print(pcm2,'% pour la phase 2') \n",
    "\n",
    "\n",
    " pcm3=round(100-(pcm1+pcm2),1) #pourcentage mineral3\n",
    " print(pcm3,'% pour la phase 3') "
   ]
  },
  {
   "cell_type": "markdown",
   "metadata": {},
   "source": [
    "#### Quelle phase traiter? (1 à 3)"
   ]
  },
  {
   "cell_type": "code",
   "execution_count": null,
   "metadata": {
    "hide_input": true,
    "scrolled": true
   },
   "outputs": [],
   "source": [
    "numeromineral = int(input()) #choix du mineral à traiter\n",
    "if numeromineral == 1:\n",
    "    nomimage = './mineral1.png'\n",
    "elif numeromineral == 2:\n",
    "    nomimage = './mineral2.png'\n",
    "elif numeromineral == 3:\n",
    "    nomimage ='./mineral3.png'"
   ]
  },
  {
   "cell_type": "markdown",
   "metadata": {},
   "source": [
    "#### Puissance du filtre anti-poussière? (entre 0 et 8)"
   ]
  },
  {
   "cell_type": "code",
   "execution_count": null,
   "metadata": {
    "hide_input": false
   },
   "outputs": [],
   "source": [
    "filtre = int(input()) #puissance du filtre"
   ]
  },
  {
   "cell_type": "code",
   "execution_count": null,
   "metadata": {
    "hide_input": true
   },
   "outputs": [],
   "source": [
    "#1°)Première transformation inverse noir et blanc \n",
    "img = Image.open(nomimage)\n",
    "thresh = 200\n",
    "fn = lambda x : 255 if x < thresh else 0\n",
    "mineralgray = img.convert('L').point(fn, mode='1')\n",
    "mineralgray.save(nomimage)\n",
    "\n",
    "#2°)application du filtre\n",
    "image1 = cv2.imread(nomimage)\n",
    "image = cv2.cvtColor(image1, cv2.COLOR_BGR2GRAY)\n",
    "selem =  morphology.disk(filtre) \n",
    "res = morphology.white_tophat(image, selem)\n",
    "\n",
    "#3°)affichage 3 images (original,filtre, orignal-filtre)\n",
    "fig, ax = plt.subplots(ncols=2, figsize=(20, 8))\n",
    "ax[0].set_title('Avant filtre',fontsize = 15)\n",
    "ax[0].imshow(image, cmap='binary')\n",
    "ax[0].axis('off')\n",
    "ax[1].set_title('Après filtre',fontsize =15)\n",
    "ax[1].imshow(image - res, cmap='binary')\n",
    "ax[1].axis('off')\n",
    "plt.imsave('./mineralFiltre.png', image-res, cmap='gray')\n",
    "plt.show()\n",
    "\n",
    "#transformation inverse noir et blanc (remise a la normale)\n",
    "img = Image.open('./mineralFiltre.png')\n",
    "img2 = Image.open(nomimage)\n",
    "thresh = 200\n",
    "fn = lambda x : 255 if x < thresh else 0\n",
    "mineralgray = img.convert('L').point(fn, mode='1')\n",
    "mineralgrayy = img2.convert('L').point(fn, mode='1')\n",
    "mineralgray.save('./mineralFiltre.png')\n",
    "mineralgrayy.save(nomimage)"
   ]
  },
  {
   "cell_type": "markdown",
   "metadata": {},
   "source": [
    "### Detection des centres: "
   ]
  },
  {
   "cell_type": "code",
   "execution_count": null,
   "metadata": {
    "hide_input": false
   },
   "outputs": [],
   "source": [
    "imageori= file #image originale à changer\n",
    "\n",
    "\n",
    "#1°)transformation en matrice\n",
    "imagenom='./mineralFiltre.png' #image à traiter\n",
    "image = cv2.imread(imagenom)\n",
    "imageorii=cv2.imread(imageori)\n",
    "gray_image = cv2.cvtColor(image, cv2.COLOR_BGR2GRAY)\n",
    "ret,thresh = cv2.threshold(gray_image,127,255,0)\n",
    "taille_img = np.array([image.shape]) \n",
    "hauteur=taille_img[0][0]\n",
    "largeur=taille_img[0][1]\n",
    "imagevierge=np.zeros((hauteur,largeur))+255 #image de même taille mais vierge (blanche)\n",
    "imagevierge1=np.zeros((hauteur,largeur))+255\n",
    "\n",
    "#2°) cherche coutours \n",
    "contours, hierarchy = cv2.findContours(thresh,cv2.RETR_TREE,cv2.CHAIN_APPROX_SIMPLE)\n",
    "\n",
    "#3°) cherche centres\n",
    "for c in contours:\n",
    "   M = cv2.moments(c)\n",
    "   if M[\"m00\"] != 0:\n",
    "     cX = int(M[\"m10\"] / M[\"m00\"])\n",
    "     cY = int(M[\"m01\"] / M[\"m00\"])\n",
    "     \n",
    "\n",
    "     if gray_image[cY,cX] == 0:\n",
    "         cv2.circle(image, (cX, cY), 3, (0, 0, 255), 2)\n",
    "         cv2.circle(imageorii, (cX, cY), 3, (0, 0, 255), 2)\n",
    "         cv2.circle(imagevierge, (cX, cY), 3, (0, 0, 0), 2)\n",
    "         cv2.circle(imagevierge1, (cX, cY), 0, (0, 0, 0), -1)\n",
    "\n",
    "\n",
    "#5°)sauvegarde\n",
    "#plt.imsave(r'C:\\Users\\pauly\\Desktop\\projetAScode\\imageAS\\mineralCentreFiltre.png', image)                                      pas obligatoire\n",
    "plt.imsave('./mineralCentreHough.png',imagevierge)                            \n",
    "plt.imsave('./mineralCentreUnique.png', imagevierge1)\n",
    "\n",
    "imge = Image.open('./mineralCentreUnique.png') #imageCentreUnique à inverser les couleurs\n",
    "thresh = 200\n",
    "fn = lambda x : 255 if x > thresh else 0\n",
    "mineral1centre3= imge.convert('L').point(fn, mode='1')\n",
    "mineral1centre3.save('./mineralCentreUnique.png')\n",
    "imge = Image.open('./mineralCentreHough.png') #imageCentreUnique à inverser les couleurs\n",
    "thresh = 200\n",
    "fn = lambda x : 255 if x > thresh else 0\n",
    "mineral1centre3= imge.convert('L').point(fn, mode='1')\n",
    "mineral1centre3.save('./mineralCentreHough.png')\n",
    "     \n",
    "#4°)affichage\n",
    "fig, ax = plt.subplots(nrows=1, ncols=3, figsize=(40, 15))\n",
    "\n",
    "ax[0].imshow(image)\n",
    "ax[0].set_title('Centres sur la phase étudiée', fontsize = 30)\n",
    "ax[0].axis('off')\n",
    "\n",
    "ax[1].imshow(imagevierge,'Greys_r')\n",
    "ax[1].set_title('Centres seuls', fontsize = 30)\n",
    "ax[1].axis('off')\n",
    "\n",
    "ax[2].imshow(imageorii)\n",
    "ax[2].set_title('Centres sur image originale', fontsize = 30)\n",
    "ax[2].axis('off')\n"
   ]
  },
  {
   "cell_type": "code",
   "execution_count": null,
   "metadata": {},
   "outputs": [],
   "source": [
    "from ipywidgets import IntProgress\n",
    "from IPython.display import display\n",
    "import time\n",
    "img = './mineralCentreUnique.png' #image à traiter\n",
    "\n",
    "#1°) transformation matrice\n",
    "imgmat = io.imread(img) \n",
    "taillemat = np.array([imgmat.shape]) \n",
    "hauteur = taillemat[0][0]\n",
    "largeur = taillemat[0][1] \n",
    "\n",
    "centreimg = np.zeros((1,2)) \n",
    "centreimg[0,0]=ceil(hauteur/2) \n",
    "centreimg[0,1]=ceil(largeur/2) \n",
    "imgvide = np.zeros((hauteur,largeur))+255 \n",
    "\n",
    "#2°) recuperation des centres\n",
    "\n",
    "count=0\n",
    "for ha in range (hauteur): #boucle récupération XY des centres\n",
    "    for la in range (largeur):\n",
    "        if imgmat[ha,la] == 0:\n",
    "            count=count+1\n",
    "            \n",
    "if numeromineral ==1:\n",
    "    taillec=(pcm1/100*(hauteur*largeur))/count\n",
    "elif numeromineral ==2:\n",
    "    taillec=(pcm2/100*(hauteur*largeur))/count\n",
    "elif numeromineral ==3:\n",
    "    taillec=(pcm3/100*(hauteur*largeur))/count\n",
    "print(count, 'cristaux detectés')\n",
    "print(largeur*hauteur,'pixels^2 est la superficie de l image')\n",
    "print(round(taillec), ' pixels^2 est la taille moyenne de la phase étudiée')"
   ]
  },
  {
   "cell_type": "markdown",
   "metadata": {},
   "source": [
    "## Méthode de Fry : "
   ]
  },
  {
   "cell_type": "markdown",
   "metadata": {},
   "source": [
    "Veuillez patientez le temps de chargement (10 à 30 s) "
   ]
  },
  {
   "cell_type": "code",
   "execution_count": null,
   "metadata": {
    "hide_input": false
   },
   "outputs": [],
   "source": [
    "\n",
    "count1=count\n",
    "matriceXcYc = np.zeros((2,count1)) #matrice coordonnées Xc et Yc des centres\n",
    "\n",
    "colX=0\n",
    "colY=0\n",
    "for ha in range (hauteur):\n",
    "    for la in range (largeur):\n",
    "        if imgmat[ha,la] == 0:\n",
    "            count=count+1\n",
    "            matriceXcYc[colY,colX]=ha\n",
    "            matriceXcYc[colY+1,colX]=la\n",
    "            colY=0\n",
    "            colX=colX+1\n",
    "colYy=0\n",
    "cbcentre=0\n",
    "\n",
    "#3°) décallage+impression\n",
    "for colXx in range (count1):\n",
    "    minx=(centreimg[0,0]-matriceXcYc[colYy,colXx])#décalage X\n",
    "    miny=(centreimg[0,1]-matriceXcYc[colYy+1,colXx])#décalage Y\n",
    "    matriceXcYcd=matriceXcYc #matrice après décalage\n",
    "    colY=0\n",
    " \n",
    "    for colX in range (count1): #matrice décalée\n",
    "        matriceXcYcd[colY,colX]=matriceXcYc[colY,colX]+(minx)\n",
    "        matriceXcYcd[colY+1,colX]=matriceXcYc[colY+1,colX]+(miny)\n",
    "        colY=0\n",
    "\n",
    "    colY=0\n",
    "    colX=0\n",
    "    for colX in range (count1):\n",
    "        if matriceXcYcd[colY][colX] < hauteur and matriceXcYcd[colY][colX] > 0 and matriceXcYcd[colY+1][colX] < largeur and matriceXcYcd[colY+1][colX] > 0:\n",
    "            imgvide[int(matriceXcYcd[colY][colX]),int(matriceXcYcd[colY+1][colX])]=0\n",
    "            cbcentre=cbcentre+1\n",
    "        else:\n",
    "            colY=0\n",
    "    \n",
    "#4°)enregistrement\n",
    "plt.imsave('./mineralFry.png', imgvide) #fry enregistrement\n",
    "\n",
    "img = Image.open('./mineralFry.png') #image 64 couleurs a transformer en 1 couleur\n",
    "thresh = 200\n",
    "fn = lambda x : 255 if x > thresh else 0\n",
    "mineral1grayy = img.convert('L').point(fn, mode='1')\n",
    "mineral1grayy.save('./mineralFry.png') \n",
    "mineral1grayyy = io.imread('./mineralFry.png') #trnasformation matrice\n",
    "\n",
    "#5°)densité de Kernel\n",
    "hh=0\n",
    "\n",
    "for ha in range (hauteur):\n",
    "    for la in range (largeur):\n",
    "        if mineral1grayyy[ha,la] == 0:\n",
    "            hh=hh+1\n",
    "\n",
    "matriceXcentre = np.zeros((1,hh)) \n",
    "matriceYcentre= np.zeros((1,hh)) \n",
    "\n",
    "colXY=0\n",
    "for ha in range (hauteur):\n",
    "    for la in range (largeur):\n",
    "        if mineral1grayyy[ha,la] == 0:\n",
    "            matriceXcentre[0,colXY]=ha\n",
    "            matriceYcentre[0,colXY]=la\n",
    "            colXY=colXY+1\n",
    "\n",
    "x = matriceXcentre\n",
    "y = matriceYcentre\n",
    "m1, m2 = y, -x\n",
    "xmin = m1.min()\n",
    "xmax = m1.max()\n",
    "ymin = m2.min()\n",
    "ymax = m2.max()\n",
    "\n",
    "X, Y = np.mgrid[xmin:xmax:100j, ymin:ymax:100j]\n",
    "positions = np.vstack([X.ravel(), Y.ravel()])\n",
    "values = np.vstack([m1, m2])\n",
    "kernel = stats.gaussian_kde(values)\n",
    "Z = np.reshape(kernel(positions).T, X.shape)\n",
    "\n",
    "#3°)affichage 3 images (original,filtre, orignal-filtre)\n",
    "fig, ax = plt.subplots(nrows=1, ncols=2, figsize=(20, 8))\n",
    "ax[0].set_title('Analyse Fry', fontsize=15)\n",
    "ax[0].imshow(mineral1grayy, cmap='binary')\n",
    "ax[0].axis('off')\n",
    "\n",
    "ax[1].set_title('Densité de Kernel', fontsize= 15)\n",
    "ax[1].imshow(np.rot90(Z), cmap=plt.cm.gist_ncar,\n",
    "           extent=[xmin, xmax, ymin, ymax])\n",
    "#ax.plot(m1, m2, 'k.', markersize=1) #afficher centre sur graph\n",
    "ax[1].set_xlim([xmin, xmax])\n",
    "ax[1].set_ylim([ymin, ymax])\n",
    "plt.show()"
   ]
  },
  {
   "cell_type": "markdown",
   "metadata": {
    "hide_input": true
   },
   "source": [
    "### Analyse de distance au voisinage (DNN) : "
   ]
  },
  {
   "cell_type": "code",
   "execution_count": null,
   "metadata": {
    "hide_input": true
   },
   "outputs": [],
   "source": [
    "from numpy.random import randn\n",
    "from matplotlib.ticker import FuncFormatter\n",
    "\n",
    "img = './mineralCentreUnique.png' #image à traiter\n",
    "\n",
    "#1°) transformation matrice\n",
    "imgmat = io.imread(img) \n",
    "taillemat = np.array([imgmat.shape]) \n",
    "hauteur = taillemat[0][0]\n",
    "largeur = taillemat[0][1] \n",
    "\n",
    "centreimg = np.zeros((1,2)) \n",
    "centreimg[0,0]=ceil(hauteur/2) \n",
    "centreimg[0,1]=ceil(largeur/2) \n",
    "imgvide = np.zeros((hauteur,largeur))+255 \n",
    "\n",
    "#2°) recuperation des centres\n",
    "\n",
    "count=0\n",
    "for ha in range (hauteur): #boucle récupération XY des centres\n",
    "    for la in range (largeur):\n",
    "        if imgmat[ha,la] == 0:\n",
    "            count=count+1\n",
    "\n",
    "\n",
    "count1=count\n",
    "matriceXcYc = np.zeros((2,count1)) #matrice coordonnées Xc et Yc des centres\n",
    "matriceDistance = np.zeros((1,count1)) #distance du voisin le plus proche de chaque centre\n",
    "matriceDistancefinale = np.zeros((1,count1)) #\n",
    "colX=0\n",
    "colY=0\n",
    "for ha in range (hauteur):\n",
    "    for la in range (largeur):\n",
    "        if imgmat[ha,la] == 0:\n",
    "            count=count+1\n",
    "            matriceXcYc[colY,colX]=ha\n",
    "            matriceXcYc[colY+1,colX]=la\n",
    "            colY=0\n",
    "            colX=colX+1\n",
    "\n",
    "\n",
    "u=0\n",
    "U2=0\n",
    "for f in range (count1):\n",
    "    for d in range (count1):\n",
    "        matriceDistance[0][0+U2]=sqrt((matriceXcYc[0,0+u]-matriceXcYc[0][U2])**2+(matriceXcYc[1,0+u]-matriceXcYc[1][U2])**2)\n",
    "        U2=U2+1\n",
    "    matriceDistancefinale[0][0+u]=matriceDistance[matriceDistance>0].min()\n",
    "    u=u+1\n",
    "    U2=0\n",
    "\n",
    "\n",
    "max=np.max(matriceDistancefinale)\n",
    "x = list(matriceDistancefinale)\n",
    "r0=round(matriceDistancefinale.mean(),2)\n",
    "print (r0,' pixels est la distance moyenne (r0) des voisins les plus proches (DNN)')\n",
    "\n",
    "\n",
    "p=count1/(largeur*hauteur)\n",
    "print(round(p,6), 'est la densité de centre par pixel (p)')\n",
    "\n",
    "re=1/(sqrt(p))\n",
    "print(round(re,2),'pixels est la distance du voisin le plus proche (rE) si la distribution est aléatoire')\n",
    "\n",
    "R=r0/re\n",
    "\n",
    "if R <0.9:\n",
    "    print(round(R,2), 'est l indice de dispertion (R) donc la répartition est de type \"cluster\" ')\n",
    "elif R >1.1:\n",
    "    print(round(R,2), 'est l indice de dispertion (R) donc la répartition est de type \"dispertion\" ')\n",
    "else:\n",
    "    print(round(R,2), 'est l indice de dispertion (R) donc la répartition est de type \"aléatoire\" ')\n",
    "\n",
    "    \n",
    "plt.hist(x, range = (0, max), bins = 12, color = 'grey',\n",
    "            edgecolor = 'k')\n",
    "plt.xlabel('distance du voisin le plus proche (pixel)')\n",
    "plt.ylabel('fréquence')\n",
    "plt.title('Analyse de distance au voisinage (DNN)')\n",
    "plt.axvline(x=r0, color = 'r')\n",
    "plt.axvline(x=re, color = 'b')\n",
    "plt.legend([plt.axvline(x=r0, color = 'r'),plt.axvline(x=re, color = 'b')], ['moyenne observée','moyenne attendue'])\n",
    "plt.show()\n"
   ]
  },
  {
   "cell_type": "markdown",
   "metadata": {},
   "source": [
    "### Méthode de Hough : "
   ]
  },
  {
   "cell_type": "code",
   "execution_count": null,
   "metadata": {
    "hide_input": false
   },
   "outputs": [],
   "source": [
    "import numpy as np\n",
    "from skimage.transform import hough_line, hough_line_peaks\n",
    "from skimage.feature import canny\n",
    "from skimage.draw import line\n",
    "from skimage import data\n",
    "\n",
    "import matplotlib.pyplot as plt\n",
    "from matplotlib import cm\n",
    "file= './mineralCentreHough.png'\n",
    "imgmat=io.imread(file)\n",
    "hauteur,largeur = imgmat.shape \n",
    "#Changement de couleurs: \n",
    "for ha in range (hauteur):\n",
    "    for la in range (largeur):\n",
    "        if imgmat[ha,la] == 0:\n",
    "            imgmat[ha,la]=1\n",
    "        else:\n",
    "            imgmat[ha,la]=0 \n",
    "image = io.imread(file)\n",
    "\n",
    "# Classic straight-line Hough transform\n",
    "# Set a precision of 0.5 degree.\n",
    "tested_angles = np.linspace(-np.pi / 2, np.pi / 2, 360, endpoint=True)\n",
    "h, theta, d = hough_line(imgmat, theta=tested_angles)\n",
    "d=d/10\n",
    "# Generating figure 1\n",
    "fig, axes = plt.subplots(1, 2, figsize=(15, 6))\n",
    "ax = axes.ravel()\n",
    "\n",
    "ax[0].imshow(image, cmap=cm.gray)\n",
    "ax[0].set_title('Centres seuls')\n",
    "ax[0].set_axis_off()\n",
    "\n",
    "bounds = [np.rad2deg(theta[0] ),\n",
    "          np.rad2deg(theta[-1]),\n",
    "          d[-1], d[0]]\n",
    "ax[1].imshow(np.log(1 + h), extent=bounds, cmap=cm.gray, aspect=1 / 1.5)\n",
    "ax[1].set_title('Transformée de Hough')\n",
    "ax[1].set_xlabel('Angles (degrés)')\n",
    "ax[1].set_ylabel('Distance (pixels*10^1)')\n",
    "ax[1].axis('image')\n",
    "\n",
    "\n",
    "\n",
    "plt.tight_layout()\n",
    "\n",
    "plt.show()"
   ]
  },
  {
   "cell_type": "code",
   "execution_count": null,
   "metadata": {
    "hide_input": true
   },
   "outputs": [],
   "source": []
  },
  {
   "cell_type": "code",
   "execution_count": null,
   "metadata": {},
   "outputs": [],
   "source": []
  }
 ],
 "metadata": {
  "celltoolbar": "Aucun(e)",
  "hide_input": true,
  "kernelspec": {
   "display_name": "Python 3",
   "language": "python",
   "name": "python3"
  },
  "language_info": {
   "codemirror_mode": {
    "name": "ipython",
    "version": 3
   },
   "file_extension": ".py",
   "mimetype": "text/x-python",
   "name": "python",
   "nbconvert_exporter": "python",
   "pygments_lexer": "ipython3",
   "version": "3.8.5"
  }
 },
 "nbformat": 4,
 "nbformat_minor": 4
}
